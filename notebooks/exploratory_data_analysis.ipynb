{
 "cells": [
  {
   "cell_type": "code",
   "execution_count": null,
   "metadata": {},
   "outputs": [],
   "source": [
    "# exploratory_data_analysis.ipynb\n",
    "import pandas as pd\n",
    "import matplotlib.pyplot as plt\n",
    "import seaborn as sns\n",
    "\n",
    "# Load preprocessed data\n",
    "data = pd.read_csv(\n",
    "    \"backend/data/processed/merged_data.csv\", index_col=\"Date\", parse_dates=True\n",
    ")\n",
    "\n",
    "# Summary Statistics\n",
    "print(\"Summary Statistics:\")\n",
    "print(data.describe())\n",
    "\n",
    "# Missing Values Analysis\n",
    "print(\"Missing Values:\")\n",
    "print(data.isnull().sum())\n",
    "\n",
    "# Time Series Analysis\n",
    "plt.figure(figsize=(14, 7))\n",
    "plt.plot(data[\"Close\"])\n",
    "plt.title(\"Stock Closing Prices Over Time\")\n",
    "plt.xlabel(\"Date\")\n",
    "plt.ylabel(\"Closing Price\")\n",
    "plt.show()\n",
    "\n",
    "# Correlation Analysis\n",
    "plt.figure(figsize=(10, 8))\n",
    "sns.heatmap(data.corr(), annot=True, cmap=\"coolwarm\")\n",
    "plt.title(\"Correlation Matrix\")\n",
    "plt.show()\n",
    "\n",
    "# Sentiment Analysis\n",
    "sentiment_counts = data[\"Sentiment\"].value_counts()\n",
    "plt.figure(figsize=(8, 5))\n",
    "sns.barplot(x=sentiment_counts.index, y=sentiment_counts.values)\n",
    "plt.title(\"Sentiment Distribution\")\n",
    "plt.xlabel(\"Sentiment\")\n",
    "plt.ylabel(\"Frequency\")\n",
    "plt.show()"
   ]
  }
 ],
 "metadata": {
  "language_info": {
   "name": "python"
  }
 },
 "nbformat": 4,
 "nbformat_minor": 2
}
