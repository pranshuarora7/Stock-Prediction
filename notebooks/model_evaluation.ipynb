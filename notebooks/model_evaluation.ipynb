{
 "cells": [
  {
   "cell_type": "code",
   "execution_count": null,
   "metadata": {},
   "outputs": [],
   "source": [
    "# model_evaluation.ipynb\n",
    "import pandas as pd\n",
    "import numpy as np\n",
    "from sklearn.preprocessing import MinMaxScaler\n",
    "from sklearn.metrics import mean_squared_error\n",
    "import matplotlib.pyplot as plt\n",
    "import tensorflow as tf\n",
    "\n",
    "# Load preprocessed data\n",
    "data = pd.read_csv(\n",
    "    \"backend/data/processed/merged_data.csv\", index_col=\"Date\", parse_dates=True\n",
    ")\n",
    "\n",
    "# Prepare features and target\n",
    "features = data.drop(columns=[\"Close\"])\n",
    "target = data[\"Close\"]\n",
    "\n",
    "# Scale features\n",
    "scaler = MinMaxScaler()\n",
    "features_scaled = scaler.fit_transform(features)\n",
    "\n",
    "# Reshape features for LSTM/GRU\n",
    "X = np.array([features_scaled[i - 60 : i] for i in range(60, len(features_scaled))])\n",
    "y = target.values[60:]\n",
    "\n",
    "# Split data into training and testing sets\n",
    "X_train, X_test, y_train, y_test = train_test_split(X, y, test_size=0.2, shuffle=False)\n",
    "\n",
    "# Load the trained model\n",
    "model = tf.keras.models.load_model(\"backend/models/lstm_gru_news_model.h5\")\n",
    "\n",
    "# Make predictions\n",
    "y_pred = model.predict(X_test)\n",
    "\n",
    "# Evaluate the model\n",
    "mse = mean_squared_error(y_test, y_pred)\n",
    "print(f\"Mean Squared Error: {mse}\")\n",
    "\n",
    "# Plot predictions vs actual values\n",
    "plt.figure(figsize=(14, 5))\n",
    "plt.plot(y_test, label=\"Actual\")\n",
    "plt.plot(y_pred, label=\"Predicted\")\n",
    "plt.legend()\n",
    "plt.show()"
   ]
  }
 ],
 "metadata": {
  "language_info": {
   "name": "python"
  }
 },
 "nbformat": 4,
 "nbformat_minor": 2
}
