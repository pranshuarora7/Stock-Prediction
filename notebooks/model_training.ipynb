{
 "cells": [
  {
   "cell_type": "code",
   "execution_count": null,
   "metadata": {},
   "outputs": [],
   "source": [
    "# model_training.ipynb\n",
    "import pandas as pd\n",
    "import numpy as np\n",
    "from sklearn.model_selection import train_test_split\n",
    "from sklearn.preprocessing import MinMaxScaler\n",
    "from backend.models.lstm_gru_news_model import train_model\n",
    "\n",
    "# Load preprocessed data\n",
    "data = pd.read_csv(\n",
    "    \"backend/data/processed/merged_data.csv\", index_col=\"Date\", parse_dates=True\n",
    ")\n",
    "\n",
    "# Prepare features and target\n",
    "features = data.drop(columns=[\"Close\"])\n",
    "target = data[\"Close\"]\n",
    "\n",
    "# Scale features\n",
    "scaler = MinMaxScaler()\n",
    "features_scaled = scaler.fit_transform(features)\n",
    "\n",
    "# Reshape features for LSTM/GRU\n",
    "X = np.array([features_scaled[i - 60 : i] for i in range(60, len(features_scaled))])\n",
    "y = target.values[60:]\n",
    "\n",
    "# Split data into training and testing sets\n",
    "X_train, X_test, y_train, y_test = train_test_split(X, y, test_size=0.2, shuffle=False)\n",
    "\n",
    "# Train the model\n",
    "input_shape = (X_train.shape[1], X_train.shape[2])\n",
    "model = train_model(X_train, y_train, input_shape, epochs=50, batch_size=32)\n",
    "\n",
    "# Save the model\n",
    "model.save(\"backend/models/lstm_gru_news_model.h5\")"
   ]
  }
 ],
 "metadata": {
  "language_info": {
   "name": "python"
  }
 },
 "nbformat": 4,
 "nbformat_minor": 2
}
